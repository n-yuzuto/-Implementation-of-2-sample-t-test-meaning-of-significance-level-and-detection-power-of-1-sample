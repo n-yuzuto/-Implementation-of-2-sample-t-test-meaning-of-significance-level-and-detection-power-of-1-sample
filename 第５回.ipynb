{
 "cells": [
  {
   "cell_type": "code",
   "execution_count": 65,
   "metadata": {},
   "outputs": [
    {
     "data": {
      "text/plain": [
       "2.023749161075337"
      ]
     },
     "execution_count": 65,
     "metadata": {},
     "output_type": "execute_result"
    }
   ],
   "source": [
    "import numpy as np\n",
    "from scipy.stats import t\n",
    "def make_t(X,Y):\n",
    "    n = len(X)\n",
    "    m = len(Y)\n",
    "    muxhat = sum(X) / n\n",
    "    muyhat = sum(Y) / m\n",
    "    sigmax = 0\n",
    "    sigmay = 0\n",
    "    for i in range(n):\n",
    "        a = (X[i] - muxhat) ** 2\n",
    "        sigmax += a\n",
    "    for i in range(m):\n",
    "        a = (Y[i] - muyhat) ** 2\n",
    "        sigmax += a\n",
    "    sigma_nijou = (sigmax + sigmay) / (n+m-2)\n",
    "    sigmahat = np.sqrt(sigma_nijou)\n",
    "    return (muxhat - muyhat) / ( sigmahat * np.sqrt(1/n + 1/m) )\n",
    "X = [0.48, -0.32, 1.04, 0.86, 0.53]\n",
    "Y = [-1.64, -1.23, -0.28, 0.14, 0.67]\n",
    "make_t(X,Y)"
   ]
  },
  {
   "cell_type": "code",
   "execution_count": 66,
   "metadata": {},
   "outputs": [
    {
     "name": "stdout",
     "output_type": "stream",
     "text": [
      "0.07760607018849754\n"
     ]
    }
   ],
   "source": [
    "from scipy.stats import t\n",
    "n = len(X)\n",
    "m = len(Y)\n",
    "t1 = make_t(X,Y)\n",
    "p = t.cdf(-abs(t1), n+m-2) + ( 1-t.cdf(abs(t1), n+m-2) )\n",
    "print(p)"
   ]
  },
  {
   "cell_type": "code",
   "execution_count": 84,
   "metadata": {},
   "outputs": [],
   "source": [
    "from scipy.stats import t\n",
    "def t_test(X, mu_shita):\n",
    "    n = len(X)\n",
    "    muhat = sum(X) / n\n",
    "    sigma = 0\n",
    "    for i in range(n):\n",
    "        a = (X[i]-muhat) ** 2\n",
    "        sigma += a\n",
    "    sigma = np.sqrt(sigma / (n-1) ) \n",
    "    T = (muhat - mu_shita) * np.sqrt(n) / sigma\n",
    "    return t.cdf(-abs(T), n-1) + ( 1-t.cdf(abs(T), n-1) )"
   ]
  },
  {
   "cell_type": "code",
   "execution_count": 85,
   "metadata": {},
   "outputs": [
    {
     "name": "stdout",
     "output_type": "stream",
     "text": [
      "4\n"
     ]
    }
   ],
   "source": [
    "count = 0\n",
    "for i in range(100):\n",
    "    data = np.random.randn(30)\n",
    "    p = t_test(data, 0)\n",
    "    if p <= 0.05:\n",
    "        count += 1\n",
    "print(count)"
   ]
  },
  {
   "cell_type": "code",
   "execution_count": 86,
   "metadata": {},
   "outputs": [
    {
     "name": "stdout",
     "output_type": "stream",
     "text": [
      "100\n"
     ]
    }
   ],
   "source": [
    "count = 0\n",
    "n = 30\n",
    "for i in range(100):\n",
    "    data = np.random.normal(loc=1.0, scale=1.0, size=n)\n",
    "    p=t_test(data, 0)\n",
    "    if p < 0.05:\n",
    "        count += 1\n",
    "print(count)"
   ]
  },
  {
   "cell_type": "code",
   "execution_count": 87,
   "metadata": {},
   "outputs": [
    {
     "data": {
      "text/plain": [
       "Text(0, 0.5, 'count')"
      ]
     },
     "execution_count": 87,
     "metadata": {},
     "output_type": "execute_result"
    },
    {
     "data": {
      "image/png": "[encoded data removed]",
      "text/plain": [
       "<Figure size 432x288 with 1 Axes>"
      ]
     },
     "metadata": {
      "needs_background": "light"
     },
     "output_type": "display_data"
    }
   ],
   "source": [
    "%matplotlib inline\n",
    "import numpy as np\n",
    "from scipy.stats import t \n",
    "import matplotlib.pyplot as plt\n",
    "n = [10, 30, 100, 300, 1000, 3000]\n",
    "result = []\n",
    "for x in range(len(n)):\n",
    "    count = 0\n",
    "    for i in range(100):\n",
    "        data = np.random.normal(loc=1.0, scale=1.0, size=n[x])\n",
    "        p=t_test(data, 0)\n",
    "        if p <= 0.05:\n",
    "            count += 1\n",
    "    result.append(count)\n",
    "legend = [\"10\",\"30\",\"100\",\"300\",\"1000\",\"3000\"]\n",
    "x = range(0,6)\n",
    "plt.bar(x,result,tick_label=legend)\n",
    "plt.xlabel(\"n\")\n",
    "plt.ylabel(\"count\")"
   ]
  },
  {
   "cell_type": "code",
   "execution_count": 90,
   "metadata": {},
   "outputs": [
    {
     "data": {
      "text/plain": [
       "Text(0, 0.5, 'count')"
      ]
     },
     "execution_count": 90,
     "metadata": {},
     "output_type": "execute_result"
    },
    {
     "data": {
      "image/png": "[encoded data removed]",
      "text/plain": [
       "<Figure size 432x288 with 1 Axes>"
      ]
     },
     "metadata": {
      "needs_background": "light"
     },
     "output_type": "display_data"
    }
   ],
   "source": [
    "%matplotlib inline\n",
    "import numpy as np\n",
    "from scipy.stats import t \n",
    "import matplotlib.pyplot as plt\n",
    "alpha = [0.00001,0.0001,0.001,0.01,0.1]\n",
    "result = []\n",
    "n=30\n",
    "for i in range(len(alpha)):\n",
    "    count = 0\n",
    "    for j in range(100):\n",
    "        data = np.random.normal(loc=1.0, scale=1.0, size=n)\n",
    "        p=t_test(data, 0)\n",
    "        if p <= alpha[i]:\n",
    "            count += 1\n",
    "    result.append(count)\n",
    "legend = [\"0.00001\",\"0.0001\",\"0.001\",\"0.01\",\"0.1\"]\n",
    "x = range(0,5)\n",
    "plt.bar(x,result,tick_label=legend)\n",
    "plt.xlabel(\"alpha\")\n",
    "plt.ylabel(\"count\")"
   ]
  },
  {
   "cell_type": "code",
   "execution_count": 91,
   "metadata": {},
   "outputs": [
    {
     "data": {
      "text/plain": [
       "Text(0, 0.5, 'count')"
      ]
     },
     "execution_count": 91,
     "metadata": {},
     "output_type": "execute_result"
    },
    {
     "data": {
      "image/png": "[encoded data removed]",
      "text/plain": [
       "<Figure size 432x288 with 1 Axes>"
      ]
     },
     "metadata": {
      "needs_background": "light"
     },
     "output_type": "display_data"
    }
   ],
   "source": [
    "%matplotlib inline\n",
    "import numpy as np\n",
    "from scipy.stats import t \n",
    "import matplotlib.pyplot as plt\n",
    "\n",
    "alpha = [0.00001,0.0001,0.001,0.01,0.1]\n",
    "result = []\n",
    "n=30\n",
    "alpha = 0.05\n",
    "mu = [0.0,0.2,0.4,0.6,0.8,1.0]\n",
    "for i in range(len(mu)):\n",
    "    count = 0\n",
    "    for j in range(100):\n",
    "        data = np.random.normal(loc=mu[i], scale=1.0, size=n)\n",
    "        p=t_test(data, 0)\n",
    "        if p <= alpha:\n",
    "            count += 1\n",
    "    result.append(count)\n",
    "legend = [\"0.0\",\"0.2\",\"0.4\",\"0.6\",\"0.8\",\"1.0\"]\n",
    "x = range(0,6)\n",
    "plt.bar(x,result,tick_label=legend)\n",
    "plt.xlabel(\"mu\")\n",
    "plt.ylabel(\"count\")"
   ]
  },
  {
   "cell_type": "code",
   "execution_count": null,
   "metadata": {},
   "outputs": [],
   "source": []
  }
 ],
 "metadata": {
  "kernelspec": {
   "display_name": "Python 3",
   "language": "python",
   "name": "python3"
  },
  "language_info": {
   "codemirror_mode": {
    "name": "ipython",
    "version": 3
   },
   "file_extension": ".py",
   "mimetype": "text/x-python",
   "name": "python",
   "nbconvert_exporter": "python",
   "pygments_lexer": "ipython3",
   "version": "3.7.3"
  }
 },
 "nbformat": 4,
 "nbformat_minor": 2
}
